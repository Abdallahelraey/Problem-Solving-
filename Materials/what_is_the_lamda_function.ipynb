{
  "cells": [
    {
      "cell_type": "markdown",
      "metadata": {
        "id": "ngGiCArUnyR3"
      },
      "source": [
        "In Python, a lambda function is a small, anonymous function defined using the `lambda` keyword. It's a concise way to create functions that typically consist of a single expression.\n",
        "\n",
        "**Syntax:**"
      ]
    },
    {
      "cell_type": "markdown",
      "metadata": {},
      "source": [
        "`lambda arguments: expression`"
      ]
    },
    {
      "cell_type": "markdown",
      "metadata": {
        "id": "jP5dlzFYnyR-"
      },
      "source": [
        "**Breakdown:**\n",
        "\n",
        "- `lambda`: This keyword indicates that you're defining a lambda function.\n",
        "- `arguments`: The parameters or inputs the function will take. Multiple arguments can be separated by commas.\n",
        "- `expression`: The code to be executed within the function. The result of this expression is automatically returned.\n",
        "\n",
        "**Example:**"
      ]
    },
    {
      "cell_type": "code",
      "execution_count": 15,
      "metadata": {
        "id": "C9vhM9mxnyR-"
      },
      "outputs": [
        {
          "name": "stdout",
          "output_type": "stream",
          "text": [
            "25\n"
          ]
        }
      ],
      "source": [
        "# Define a lambda function to square a number\n",
        "square = lambda x: x * x\n",
        "\n",
        "# Call the lambda function\n",
        "result = square(5)  # result will be 25\n",
        "print(result)"
      ]
    },
    {
      "cell_type": "markdown",
      "metadata": {
        "id": "zO-euA5PnyR_"
      },
      "source": [
        "**Key Characteristics:**\n",
        "\n",
        "- **Anonymous:** Lambda functions don't have a formal name like regular functions defined with `def`.\n",
        "- **Concise:** They're ideal for short, one-line functions.\n",
        "- **Often Used with Higher-Order Functions:** Lambda functions are frequently used as arguments to higher-order functions like `map()`, `filter()`, and `reduce()`.\n",
        "\n",
        "**Example with `map()`:**"
      ]
    },
    {
      "cell_type": "code",
      "execution_count": 13,
      "metadata": {
        "id": "b6yJFGknnySA"
      },
      "outputs": [
        {
          "name": "stdout",
          "output_type": "stream",
          "text": [
            "[1, 4, 9, 16, 25]\n"
          ]
        }
      ],
      "source": [
        "numbers = [1, 2, 3, 4, 5]\n",
        "squared_numbers = list(map(lambda x: x * x, numbers))  # [1, 4, 9, 16, 25]\n",
        "print(squared_numbers)"
      ]
    },
    {
      "cell_type": "markdown",
      "metadata": {
        "id": "J3jlIYbqnySA"
      },
      "source": [
        "In this example, `map()` applies the lambda function (which squares each number) to each element in the `numbers` list.\n",
        "\n",
        "**When to Use Lambda Functions:**\n",
        "\n",
        "- When you need a simple, one-time function.\n",
        "- When you want to pass a function as an argument to another function.\n",
        "- To make your code more concise and readable in certain situations.\n",
        "\n",
        "**In Summary:**\n",
        "\n",
        "Lambda functions provide a convenient way to create small, unnamed functions in Python. They're particularly useful when you need a function for a specific, limited purpose."
      ]
    },
    {
      "cell_type": "markdown",
      "metadata": {},
      "source": [
        "----"
      ]
    },
    {
      "cell_type": "markdown",
      "metadata": {},
      "source": [
        "Lets see some nuanced appraches for using the lambda function as a concise anonymous function definition. aka (using a lambda function in another function definition)"
      ]
    },
    {
      "cell_type": "markdown",
      "metadata": {},
      "source": [
        "The following code is intended too remove a character from the provided strign"
      ]
    },
    {
      "cell_type": "code",
      "execution_count": 1,
      "metadata": {},
      "outputs": [
        {
          "name": "stdout",
          "output_type": "stream",
          "text": [
            "<function rem_char.<locals>.<lambda> at 0x0000021DA8542200>\n"
          ]
        }
      ],
      "source": [
        "def rem_char(s, char):\n",
        "    modified_str = lambda s,char: ''.join(i for i in s if i != char) \n",
        "    return modified_str\n",
        "\n",
        "print(rem_char(\"Hello\", \"l\"))"
      ]
    },
    {
      "cell_type": "markdown",
      "metadata": {},
      "source": [
        "As you can see, The `rem_char` function does not return the modified string . Instead, it returns the lambda function itself."
      ]
    },
    {
      "cell_type": "markdown",
      "metadata": {},
      "source": [
        "Here's why:\n",
        "\n",
        "Inside the `rem_char` function, you define a lambda function `(modified_str)` that removes the specified character.\n",
        "\n",
        "The return statement in the `rem_char` function returns this `modified_str` lambda function, not the result of applying that lambda function.\n",
        "\n",
        "To actually remove the character and get the modified string, you need to call the returned lambda function with the input string and the character:"
      ]
    },
    {
      "cell_type": "code",
      "execution_count": 10,
      "metadata": {},
      "outputs": [
        {
          "name": "stdout",
          "output_type": "stream",
          "text": [
            "Heo\n"
          ]
        }
      ],
      "source": [
        "def rem_char(s, char):\n",
        "    modified_str = lambda s,char: ''.join(i for i in s if i != char) \n",
        "    return modified_str\n",
        "\n",
        "remove_l = rem_char(\"Hello\", \"l\")  # Get the lambda function\n",
        "modified_string = remove_l(\"Hello\", \"l\")  # Call the lambda function \n",
        "print(modified_string)  # Output: \"Heo\""
      ]
    },
    {
      "cell_type": "markdown",
      "metadata": {},
      "source": [
        "💀 As you can see, (for a trained eye) this is nonsense... Here is why!!"
      ]
    },
    {
      "cell_type": "markdown",
      "metadata": {},
      "source": [
        "This code has a few issues:\n",
        "\n",
        "1. The lambda function definition and usage is incorrect:\n",
        "   - `rem_char` returns the lambda function instead of the modified string\n",
        "   - The lambda  parameters above are nothing but redundant since `char`  and `s` is already defined in the outer function definition"
      ]
    },
    {
      "cell_type": "code",
      "execution_count": 18,
      "metadata": {},
      "outputs": [
        {
          "name": "stdout",
          "output_type": "stream",
          "text": [
            "Heo\n"
          ]
        }
      ],
      "source": [
        "# The following code runs just fine!! (Using the variables defined in the outer function definition `rem_char()` normally)\n",
        "def rem_char(s, char):\n",
        "    modified_str = lambda: ''.join(i for i in s if i != char) \n",
        "    return modified_str\n",
        "\n",
        "remove_l = rem_char(\"Hello\", \"l\")  # Get the lambda function\n",
        "modified_string = remove_l()  # Call the lambda function \n",
        "print(modified_string)  # Output: \"Heo\""
      ]
    },
    {
      "cell_type": "markdown",
      "metadata": {},
      "source": [
        "That is equivelant to using:\n",
        "\n",
        "```python\n",
        "def rem_char(s, char):\n",
        "    def inner():\n",
        "        return ''.join(i for i in s if i != char)\n",
        "    return inner\n",
        "```\n",
        "So as you can see there is no need to use a lambda function here in this use case, BUT it can comes in handy in other situations....\n",
        "\n",
        "This version of the code is more straightforward and easier to understand, especially for those who are not familiar with closures. However, it's worth noting that the lambda function in the original code is still being used correctly, and the closure mechanism is not being exploited in this example.\n",
        "\n",
        "### Now, let's talk about closures in more detail:"
      ]
    },
    {
      "cell_type": "markdown",
      "metadata": {},
      "source": [
        "### Technically we call what we have done: `Closures` => Capturing Variables in Python\n",
        "\n",
        "A closure is a function that can access variables from its outer (enclosing) scope even after the outer function has finished executing.\n",
        "\n",
        "In our code:\n",
        "```python\n",
        "def rem_char(s, char):\n",
        "    modified_str = lambda: ''.join(i for i in s if i != char) \n",
        "    return modified_str\n",
        "```\n",
        "\n",
        "The lambda function can use `s` and `char` because:\n",
        "1. These variables exist in its enclosing scope (the `rem_char` function)\n",
        "2. When the lambda is created, it \"captures\" these values\n",
        "3. Even after `rem_char` finishes executing, the lambda maintains access to those captured values\n",
        "\n",
        "This is why `remove_l()` still works - it's using the `s` and `char` values that were captured when it was created."
      ]
    },
    {
      "cell_type": "markdown",
      "metadata": {},
      "source": [
        "### IRL that may be useful in many cases:"
      ]
    },
    {
      "cell_type": "markdown",
      "metadata": {},
      "source": [
        "**Function factories - creating customized functions**\n",
        "\n",
        "```python\n",
        "def make_multiplier(x):\n",
        "    return lambda n: n * x\n",
        "\n",
        "double = make_multiplier(2)\n",
        "triple = make_multiplier(3)\n",
        "```"
      ]
    },
    {
      "cell_type": "markdown",
      "metadata": {},
      "source": [
        "**Another practical example of a function factory using closures:**\n",
        "\n",
        "```python\n",
        "def make_formatter(prefix, suffix=''):\n",
        "    return lambda text: f\"{prefix}{text}{suffix}\"\n",
        "\n",
        "make_bold = make_formatter('**', '**')\n",
        "make_italic = make_formatter('_', '_')\n",
        "\n",
        "print(make_bold(\"important\"))     # **important**\n",
        "print(make_italic(\"emphasis\"))    # _emphasis_\n",
        "```\n",
        "\n",
        "This creates reusable formatting functions while keeping the formatting details encapsulated."
      ]
    },
    {
      "cell_type": "markdown",
      "metadata": {},
      "source": [
        "**Data privacy - encapsulating variables without making them global**\n",
        "\n",
        "```python\n",
        "def counter():\n",
        "    count = 0\n",
        "    def increment():\n",
        "        nonlocal count\n",
        "        count += 1\n",
        "        return count\n",
        "    return increment\n",
        "\n",
        "my_counter = counter()\n",
        "print(my_counter())  # 1\n",
        "print(my_counter())  # 2\n",
        "```"
      ]
    },
    {
      "cell_type": "markdown",
      "metadata": {},
      "source": [
        "**Event handlers/callbacks - preserving state between function calls**\n",
        "\n",
        "```python\n",
        "def create_button_handler(button_id):\n",
        "    clicks = 0\n",
        "    def on_click():\n",
        "        nonlocal clicks\n",
        "        clicks += 1\n",
        "        print(f\"Button {button_id} clicked {clicks} times\")\n",
        "    return on_click\n",
        "```"
      ]
    },
    {
      "cell_type": "markdown",
      "metadata": {},
      "source": [
        "---"
      ]
    },
    {
      "cell_type": "markdown",
      "metadata": {},
      "source": [
        "But wait... we want to specifically use a lambda:"
      ]
    },
    {
      "cell_type": "markdown",
      "metadata": {},
      "source": [
        "TL:DR: If you want to remove a `char` from a string using `lambda` you can do it as follows:   "
      ]
    },
    {
      "cell_type": "code",
      "execution_count": 19,
      "metadata": {},
      "outputs": [
        {
          "name": "stdout",
          "output_type": "stream",
          "text": [
            "Heo\n"
          ]
        }
      ],
      "source": [
        "rem_char = lambda s, char: ''.join(i for i in s if i != char)\n",
        "modified_string = rem_char(\"Hello\", \"l\")\n",
        "print(modified_string)"
      ]
    },
    {
      "cell_type": "markdown",
      "metadata": {},
      "source": [
        "Understanding this behavior, allows you to effectively use more complex functions in real worled scenarios where you would like to keep the functio abstract where to also impliment teh logic in more simple and straight forward mannar creating and return other reusable functions or perform more complex operations."
      ]
    }
  ],
  "metadata": {
    "colab": {
      "provenance": []
    },
    "kernelspec": {
      "display_name": "venv",
      "language": "python",
      "name": "python3"
    },
    "language_info": {
      "codemirror_mode": {
        "name": "ipython",
        "version": 3
      },
      "file_extension": ".py",
      "mimetype": "text/x-python",
      "name": "python",
      "nbconvert_exporter": "python",
      "pygments_lexer": "ipython3",
      "version": "3.11.0"
    }
  },
  "nbformat": 4,
  "nbformat_minor": 0
}
