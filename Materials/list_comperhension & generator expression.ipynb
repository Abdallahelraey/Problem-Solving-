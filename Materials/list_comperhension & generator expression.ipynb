{
  "cells": [
    {
      "cell_type": "markdown",
      "metadata": {},
      "source": [
        "# **List Comprehensions**"
      ]
    },
    {
      "cell_type": "markdown",
      "metadata": {
        "id": "PbW0eJKZJS_M"
      },
      "source": [
        "\n",
        "\n",
        "List comprehensions are a concise and elegant way to create lists in Python. They provide a more readable and often more efficient alternative to traditional `for` loops.\n",
        "\n",
        "**Basic Structure**"
      ]
    },
    {
      "cell_type": "markdown",
      "metadata": {},
      "source": [
        "`[expression for item in iterable if condition]`"
      ]
    },
    {
      "cell_type": "markdown",
      "metadata": {
        "id": "T433jJpZJS_U"
      },
      "source": [
        "* **`expression`:** The value to be included in the new list.\n",
        "* **`item`:** A temporary variable representing each element in the iterable.\n",
        "* **`iterable`:** Any sequence of elements (e.g., list, tuple, string).\n",
        "* **`condition`:** (Optional) A filter that determines whether the item should be included in the new list.\n",
        "\n",
        "**Examples**\n",
        "\n",
        "1. **Creating a list of squares:**"
      ]
    },
    {
      "cell_type": "code",
      "execution_count": null,
      "metadata": {
        "id": "SRP8uR47JS_V"
      },
      "outputs": [],
      "source": [
        "squares = [x**2 for x in range(10)]\n",
        "print(squares)  # Output: [0, 1, 4, 9, 16, 25, 36, 49, 64, 81]"
      ]
    },
    {
      "cell_type": "markdown",
      "metadata": {
        "id": "e_shOP0KJS_V"
      },
      "source": [
        "2. **Creating a list of even numbers:**"
      ]
    },
    {
      "cell_type": "code",
      "execution_count": null,
      "metadata": {
        "id": "AIwD272xJS_W"
      },
      "outputs": [],
      "source": [
        "even_numbers = [x for x in range(20) if x % 2 == 0]\n",
        "print(even_numbers)  # Output: [0, 2, 4, 6, 8, 10, 12, 14, 16, 18]"
      ]
    },
    {
      "cell_type": "markdown",
      "metadata": {
        "id": "YgkQe9QQJS_W"
      },
      "source": [
        "3. **Creating a list of uppercase letters:**"
      ]
    },
    {
      "cell_type": "code",
      "execution_count": null,
      "metadata": {
        "id": "TjFCJnVJJS_W"
      },
      "outputs": [],
      "source": [
        "uppercase_letters = [letter.upper() for letter in 'hello']\n",
        "print(uppercase_letters)  # Output: ['H', 'E', 'L', 'L', 'O']"
      ]
    },
    {
      "cell_type": "markdown",
      "metadata": {
        "id": "qV-wE-jfJS_X"
      },
      "source": [
        "**Nested Loops**\n",
        "\n",
        "List comprehensions can also be used to simulate nested loops:"
      ]
    },
    {
      "cell_type": "code",
      "execution_count": null,
      "metadata": {
        "id": "9OUDKGYBJS_X"
      },
      "outputs": [],
      "source": [
        "matrix = [[j for j in range(3)] for i in range(2)]\n",
        "print(matrix)  # Output: [[0, 1, 2], [0, 1, 2]]"
      ]
    },
    {
      "cell_type": "markdown",
      "metadata": {
        "id": "yvwVMQhJJS_Y"
      },
      "source": [
        "**Advantages**\n",
        "\n",
        "* **Conciseness:** More readable and easier to write than traditional `for` loops.\n",
        "* **Efficiency:** Often more efficient than explicit loops, especially for smaller operations.\n",
        "* **Pythonic:** Considered more \"Pythonic\" due to their conciseness and readability.\n",
        "\n",
        "**Key Points**\n",
        "\n",
        "* List comprehensions are a powerful tool for creating lists in Python.\n",
        "* They are concise, readable, and often more efficient than traditional loops.\n",
        "* They can include conditional statements to filter elements.\n",
        "* They can be used to simulate nested loops.\n"
      ]
    },
    {
      "cell_type": "markdown",
      "metadata": {},
      "source": [
        "----------"
      ]
    },
    {
      "cell_type": "markdown",
      "metadata": {},
      "source": [
        "# **Generator Expressions** "
      ]
    },
    {
      "cell_type": "markdown",
      "metadata": {},
      "source": [
        "**Generator Expressions** are a concise way to create generators in Python. They offer a similar syntax to list comprehensions but instead of immediately creating a list, they yield elements one at a time.\n",
        "\n",
        "**Here's the basic syntax:**"
      ]
    },
    {
      "cell_type": "markdown",
      "metadata": {},
      "source": [
        "`(expression for item in iterable if condition)`"
      ]
    },
    {
      "cell_type": "markdown",
      "metadata": {},
      "source": [
        "* **expression:** The value to be yielded for each item.\n",
        "* **item:** A variable representing each element in the iterable.\n",
        "* **iterable:** Any iterable object (like a list, tuple, string, etc.).\n",
        "* **condition (optional):** A filter that determines which items should be included.\n",
        "\n",
        "**Example:**"
      ]
    },
    {
      "cell_type": "code",
      "execution_count": 1,
      "metadata": {},
      "outputs": [
        {
          "name": "stdout",
          "output_type": "stream",
          "text": [
            "4\n",
            "16\n",
            "36\n",
            "64\n",
            "100\n"
          ]
        }
      ],
      "source": [
        "# Create a generator that yields the squares of even numbers from 1 to 10\n",
        "even_squares = (x**2 for x in range(1, 11) if x % 2 == 0)\n",
        "\n",
        "# Iterate through the generator\n",
        "for square in even_squares:\n",
        "    print(square)"
      ]
    },
    {
      "cell_type": "markdown",
      "metadata": {},
      "source": [
        "**Output:**\n",
        "\n",
        "```\n",
        "4\n",
        "16\n",
        "36\n",
        "64\n",
        "100\n",
        "```\n",
        "\n",
        "**Key Advantages of Generator Expressions:**\n",
        "\n",
        "* **Memory Efficiency:** They generate values on-the-fly, so they don't consume as much memory as creating a full list. This is especially beneficial when dealing with large datasets.\n",
        "* **Laziness:** They only produce values as needed, which can improve performance in situations where not all values are required.\n",
        "* **Concise Syntax:** They provide a compact and readable way to create generators.\n",
        "\n",
        "**When to Use Generator Expressions:**\n",
        "\n",
        "* When you need to iterate over a sequence of values but don't need to store them all in memory at once.\n",
        "* When you want to process large datasets efficiently.\n",
        "* When you want to create a simple generator with a concise syntax.\n",
        "\n",
        "**In summary:**\n",
        "\n",
        "Generator expressions are a powerful tool in Python for creating efficient and memory-friendly generators. They offer a concise and elegant way to generate sequences of values on-demand."
      ]
    },
    {
      "cell_type": "markdown",
      "metadata": {},
      "source": [
        "--------"
      ]
    },
    {
      "cell_type": "markdown",
      "metadata": {},
      "source": [
        "# **List Comprehensions** & **Generator Expressions** (What is the difference!!)"
      ]
    },
    {
      "cell_type": "markdown",
      "metadata": {},
      "source": [
        "**List Comprehensions**\n",
        "\n",
        "* **Purpose:** Create a new list by applying an expression to each item in an iterable.\n",
        "* **Output:** A complete list in memory.\n",
        "* **Syntax:** `[expression for item in iterable if condition]` (enclosed in square brackets)\n",
        "* **Memory Usage:** Stores the entire list in memory, which can be inefficient for large datasets.\n",
        "* **When to Use:**\n",
        "    * When you need the entire list immediately.\n",
        "    * When memory usage is not a concern.\n",
        "\n",
        "**Generator Expressions**\n",
        "\n",
        "* **Purpose:** Create an iterator that generates values on-the-fly.\n",
        "* **Output:** A generator object that yields values one at a time.\n",
        "* **Syntax:** `(expression for item in iterable if condition)` (enclosed in parentheses)\n",
        "* **Memory Usage:** Generates values only when requested, making them memory-efficient for large datasets.\n",
        "* **When to Use:**\n",
        "    * When you need to process data sequentially.\n",
        "    * When memory usage is a concern.\n",
        "    * When you don't need the entire list at once.\n",
        "\n",
        "**Here's a table summarizing the key differences:**\n",
        "\n",
        "| Feature | List Comprehensions | Generator Expressions |\n",
        "|---|---|---|\n",
        "| Output | List | Generator object |\n",
        "| Memory Usage | Stores entire list in memory | Generates values on-demand |\n",
        "| Efficiency | Can be faster for small datasets | More memory-efficient for large datasets |\n",
        "| Use Cases | When you need the entire list immediately | When you need to process data sequentially |\n",
        "\n",
        "**In essence:**\n",
        "\n",
        "* **List comprehensions** are like building a whole house at once.\n",
        "* **Generator expressions** are like building a house one room at a time, as needed.\n"
      ]
    }
  ],
  "metadata": {
    "colab": {
      "provenance": []
    },
    "kernelspec": {
      "display_name": "venv",
      "language": "python",
      "name": "python3"
    },
    "language_info": {
      "codemirror_mode": {
        "name": "ipython",
        "version": 3
      },
      "file_extension": ".py",
      "mimetype": "text/x-python",
      "name": "python",
      "nbconvert_exporter": "python",
      "pygments_lexer": "ipython3",
      "version": "3.11.0"
    }
  },
  "nbformat": 4,
  "nbformat_minor": 0
}
