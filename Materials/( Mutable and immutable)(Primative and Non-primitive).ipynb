{
  "cells": [
    {
      "cell_type": "markdown",
      "metadata": {},
      "source": [
        "First what does it mean to be ( Mutable and immutable) or even what does it mean to be (Primative and Non-primitive):\n",
        "( Mutable and immutable)(Primative and Non-primitive)\n",
        "\n",
        "In Python, data types are broadly categorized into two main groups:\n",
        "\n",
        "**Primitive Data Types:** These are the most basic building blocks of data. They represent single values and are typically immutable (cannot be changed after creation).\n",
        "\n",
        "- **Integers (int):** Whole numbers (e.g., 10, -5, 0)\n",
        "- **Floats (float):** Numbers with decimal points (e.g., 3.14, -2.5)\n",
        "- **Strings (str):** Sequences of characters (e.g., \"Hello\", 'world')\n",
        "- **Booleans (bool):** Represent truth values (True or False)\n",
        "\n",
        "\n",
        "**Non-Primitive Data Types (Composite or Collections):** These are more complex data structures that can hold multiple values or collections of values. They can be either mutable or immutable.\n",
        "\n",
        "- **Lists (list):** Ordered collections of items, enclosed in square brackets (e.g., [1, 2, 3], [\"apple\", \"banana\"])\n",
        "- **Tuples (tuple):** Ordered, immutable collections of items, enclosed in parentheses (e.g., (1, 2, 3), (\"apple\", \"banana\"))\n",
        "- **Dictionaries (dict):** Unordered collections of key-value pairs, enclosed in curly braces (e.g., {\"name\": \"Alice\", \"age\": 30})\n",
        "- **Sets (set):** Unordered collections of unique items, enclosed in curly braces (e.g., {1, 2, 3}, {\"apple\", \"banana\"})\n"
      ]
    },
    {
      "cell_type": "markdown",
      "metadata": {
        "id": "q7aINlQRolhQ"
      },
      "source": [
        "**1. Primitive Data Types**\n",
        "\n",
        "* **Immutable:** This means that the value of a primitive data type cannot be changed after it's created."
      ]
    },
    {
      "cell_type": "code",
      "execution_count": null,
      "metadata": {
        "id": "f7ekW5sbolhT"
      },
      "outputs": [],
      "source": [
        "# Integers\n",
        "x = 5\n",
        "# x = x + 1  # This creates a new integer object, not modifying the original\n",
        "print(x)  # Output: 5\n",
        "\n",
        "# Strings\n",
        "name = \"Alice\"\n",
        "# name[0] = 'B'  # This will raise an error: 'str' object does not support item assignment\n",
        "print(name)  # Output: Alice"
      ]
    },
    {
      "cell_type": "markdown",
      "metadata": {
        "id": "RdwK8Z0uolhT"
      },
      "source": [
        "* **Examples:**\n",
        "\n",
        "    - **Integers:** `10`, `-5`, `0`, `2147483647`\n",
        "    - **Floats:** `3.14`, `-2.5`, `1.0`, `2.71828`\n",
        "    - **Strings:** `\"Hello\"`, `'World'`, `\"Python\"`, `\"\"`\n",
        "    - **Booleans:** `True`, `False`\n",
        "\n",
        "**2. Non-Primitive Data Types**\n",
        "\n",
        "* **Mutable:** The values within these data structures can be changed after creation."
      ]
    },
    {
      "cell_type": "code",
      "execution_count": null,
      "metadata": {
        "id": "-c3oCpFTolhU"
      },
      "outputs": [],
      "source": [
        "# Lists\n",
        "my_list = [1, 2, 3]\n",
        "my_list[0] = 10  # Modifies the list in-place\n",
        "print(my_list)  # Output: [10, 2, 3]\n",
        "\n",
        "# Dictionaries\n",
        "my_dict = {\"name\": \"Alice\", \"age\": 30}\n",
        "my_dict[\"age\"] = 31  # Updates the value for the 'age' key\n",
        "print(my_dict)  # Output: {'name': 'Alice', 'age': 31}"
      ]
    },
    {
      "cell_type": "markdown",
      "metadata": {
        "id": "KXAASwKzolhU"
      },
      "source": [
        "* **Immutable:** Some non-primitive data types are also immutable."
      ]
    },
    {
      "cell_type": "code",
      "execution_count": null,
      "metadata": {
        "id": "1EZfFGb_olhV"
      },
      "outputs": [],
      "source": [
        "# Tuples\n",
        "my_tuple = (1, 2, 3)\n",
        "# my_tuple[0] = 10  # This will raise an error: 'tuple' object does not support item assignment\n",
        "print(my_tuple)  # Output: (1, 2, 3)"
      ]
    },
    {
      "cell_type": "markdown",
      "metadata": {
        "id": "M-EuJ-2KolhV"
      },
      "source": [
        "* **Examples:**\n",
        "\n",
        "    - **Lists:** `[1, 2, 3]`, `[\"apple\", \"banana\", \"cherry\"]`, `[]` (empty list)\n",
        "    - **Tuples:** `(1, 2, 3)`, `(\"apple\", \"banana\")`, `()` (empty tuple)\n",
        "    - **Dictionaries:** `{\"name\": \"Alice\", \"age\": 30}`, `{}` (empty dictionary)\n",
        "    - **Sets:** `{1, 2, 3}`, `{\"apple\", \"banana\"}`, `set()` (empty set)\n",
        "\n",
        "**Key Differences:**\n",
        "\n",
        "| Feature        | Primitive Data Types | Non-Primitive Data Types |\n",
        "|----------------|----------------------|--------------------------|\n",
        "| Mutability     | Immutable           | Mutable or Immutable     |\n",
        "| Complexity    | Simple, single values | Collections of values     |\n",
        "| Examples       | Integers, Floats, Strings, Booleans | Lists, Tuples, Dictionaries, Sets |\n"
      ]
    },
    {
      "cell_type": "markdown",
      "metadata": {},
      "source": [
        "---"
      ]
    },
    {
      "cell_type": "markdown",
      "metadata": {},
      "source": [
        "### How does that had any thinng to do with our sting problem??"
      ]
    },
    {
      "cell_type": "markdown",
      "metadata": {},
      "source": [
        "Ok, reeally that is probably hte only thing we have know to sole such a problem:"
      ]
    },
    {
      "cell_type": "markdown",
      "metadata": {},
      "source": [
        "---\n",
        "The immutability of Python strings directly relates to how you remove characters from them:\n",
        "\n",
        "* **Immutability:** Strings in Python are immutable, meaning they cannot be changed after they are created. When you \"remove\" a character, you're not actually modifying the original string.\n",
        "* **Creating a New String:** To remove a character, you create a new string that excludes the desired character(s). This is because the original string cannot be altered.\n",
        "* **Memory Implications:** Creating a new string requires allocating new memory to store the modified version. This is why string manipulation in Python often involves creating multiple intermediate strings, which can have memory implications, especially with large strings.\n",
        "\n",
        "**Example:**\n",
        "\n",
        "```python\n",
        "original_string = \"hello world\"\n",
        "new_string = original_string.replace(\"l\", \"\") \n",
        "\n",
        "# original_string remains unchanged: \"hello world\"\n",
        "# new_string is a new string: \"heo word\" \n",
        "```\n",
        "\n",
        "In this example, `replace()` doesn't modify `original_string`. Instead, it creates a new string (`new_string`) where all occurrences of \"l\" are removed.\n",
        "\n",
        "**Key takeaway** The immutability of strings in Python influences how string manipulation operations are performed, requiring the creation of new strings rather than modifying existing ones in-place.\n"
      ]
    }
  ],
  "metadata": {
    "colab": {
      "provenance": []
    },
    "kernelspec": {
      "display_name": "Python 3",
      "name": "python3"
    }
  },
  "nbformat": 4,
  "nbformat_minor": 0
}
