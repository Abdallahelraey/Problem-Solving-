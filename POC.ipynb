{
 "cells": [
  {
   "cell_type": "markdown",
   "metadata": {},
   "source": [
    "# Basic String Programs"
   ]
  },
  {
   "cell_type": "markdown",
   "metadata": {},
   "source": [
    "## [Python program to check whether the string is Symmetrical or Palindrome](https://www.geeksforgeeks.org/python-program-to-check-whether-the-string-is-symmetrical-or-palindrome/?ref=leftbar-rightbar)"
   ]
  },
  {
   "cell_type": "markdown",
   "metadata": {},
   "source": [
    "Given a string. the task is to check if the string is symmetrical and\n",
    "palindrome or not. A string is said to be symmetrical if both the halves of the string are the same and a string is said to be a palindrome string if one half of the string is the reverse of the other half or if a string appears the same when read forward or backward.\n",
    "\n",
    "\n",
    "---\n",
    "Example\n",
    "\n",
    "Input: khokho\n",
    "\n",
    "Output:\n",
    "\n",
    "The entered string is symmetrical\n",
    "\n",
    "The entered string is not palindrome\n",
    "\n",
    "Input:amaama\n",
    "\n",
    "Output:\n",
    "\n",
    "The entered string is symmetrical\n",
    "\n",
    "The entered string is palindrome"
   ]
  },
  {
   "cell_type": "markdown",
   "metadata": {},
   "source": [
    "Approach:\n",
    "\n",
    "1. Convert the given string into lowercase.\n",
    "2. Check if the given string is symmetrical or not.\n",
    "3. Check if the given string is a palindrome or not.\n",
    "4. Print the output."
   ]
  },
  {
   "cell_type": "code",
   "execution_count": 2,
   "metadata": {},
   "outputs": [],
   "source": [
    "def split_string(string):\n",
    "    length = len(string)\n",
    "    if length % 2 == 0:\n",
    "        return string[:length // 2], string[length // 2:]\n",
    "    else:\n",
    "        return string[:length // 2], string[length // 2 + 1:]\n",
    "\n",
    "def check_symmetry(s):\n",
    "    part_1, part_2 = split_string(s)\n",
    "    return part_1 == part_2\n",
    "\n",
    "\n",
    "def check_palindrome(s):\n",
    "    part_1, part_2 = split_string(s)\n",
    "    return part_1 == part_2[::-1]\n"
   ]
  },
  {
   "cell_type": "code",
   "execution_count": 3,
   "metadata": {},
   "outputs": [
    {
     "name": "stdout",
     "output_type": "stream",
     "text": [
      "The entered string is symmetrical\n",
      "The entered string is not palindrome\n"
     ]
    }
   ],
   "source": [
    "def main():\n",
    "    s = input(\"Enter a string: \").lower()\n",
    "    if check_symmetry(s):\n",
    "        print(\"The entered string is symmetrical\")\n",
    "    else:\n",
    "        print(\"The entered string is not symmetrical\")\n",
    "    \n",
    "    if check_palindrome(s):\n",
    "        print(\"The entered string is palindrome\")\n",
    "    else:\n",
    "        print(\"The entered string is not palindrome\")\n",
    "\n",
    "main()"
   ]
  },
  {
   "cell_type": "markdown",
   "metadata": {},
   "source": [
    "# [Find Length of String in Python](https://www.geeksforgeeks.org/find-length-of-a-string-in-python-4-ways/)"
   ]
  },
  {
   "cell_type": "markdown",
   "metadata": {},
   "source": [
    "The first intutive and efficient way is to  go with python `len()` Functiton:"
   ]
  },
  {
   "cell_type": "code",
   "execution_count": null,
   "metadata": {},
   "outputs": [
    {
     "name": "stdout",
     "output_type": "stream",
     "text": [
      "Length of the string is: 5\n"
     ]
    }
   ],
   "source": [
    "def str_len(s):\n",
    "    return len(s)\n",
    "\n",
    "\n",
    "def main():\n",
    "    s = input(\"Enter a string: \").lower()\n",
    "    length = str_len(s)\n",
    "    print(\"Length of the string is:\", length)\n",
    "main()"
   ]
  },
  {
   "cell_type": "markdown",
   "metadata": {},
   "source": [
    "Then you can make  it complicated even more:"
   ]
  },
  {
   "cell_type": "code",
   "execution_count": 4,
   "metadata": {},
   "outputs": [
    {
     "name": "stdout",
     "output_type": "stream",
     "text": [
      "Length of the string is: 5\n"
     ]
    }
   ],
   "source": [
    "def str_len(s):\n",
    "    len = 0\n",
    "    for i in s:\n",
    "        len+=1\n",
    "    return len\n",
    "\n",
    "\n",
    "def main():\n",
    "    s = input(\"Enter a string: \").lower()\n",
    "    length = str_len(s)\n",
    "    print(\"Length of the string is:\", length)\n",
    "main()"
   ]
  },
  {
   "cell_type": "markdown",
   "metadata": {},
   "source": [
    "What about makeing it super Complicated!!"
   ]
  },
  {
   "cell_type": "markdown",
   "metadata": {},
   "source": [
    "The `count()` method in Python returns the number of times a specified substring appears in a string. \n",
    "\n",
    "It is commonly used in string analysis to quickly check how often certain characters or words appear.\n",
    "\n",
    "We can tweak the usage of the `count()` method to return the length of the string as follows: `count(\"\")`\n",
    "but the littel caviate here is that counting hte spaces between characters is always one more thatn the len of te characters in e string so you have to subtract ti form one."
   ]
  },
  {
   "cell_type": "code",
   "execution_count": 5,
   "metadata": {},
   "outputs": [
    {
     "name": "stdout",
     "output_type": "stream",
     "text": [
      "Length of the string is: 5\n"
     ]
    }
   ],
   "source": [
    "def str_len(s):\n",
    "    len = s.count(\"\") - 1\n",
    "    return len\n",
    "\n",
    "\n",
    "def main():\n",
    "    s = input(\"Enter a string: \").lower()\n",
    "    length = str_len(s)\n",
    "    print(\"Length of the string is:\", length)\n",
    "main()"
   ]
  },
  {
   "cell_type": "markdown",
   "metadata": {},
   "source": [
    "Because I'm free now lets impliment the functionality of python `count()` function:"
   ]
  },
  {
   "cell_type": "code",
   "execution_count": 9,
   "metadata": {},
   "outputs": [
    {
     "name": "stdout",
     "output_type": "stream",
     "text": [
      "The number of occurences of this l is: 2\n"
     ]
    }
   ],
   "source": [
    "def Ocuurences(str, Char):\n",
    "    count = 0\n",
    "    for i in str:\n",
    "        if i == Char:\n",
    "            count += 1\n",
    "    return count\n",
    "\n",
    "\n",
    "def main():\n",
    "    str = input(\"Enter a string: \").lower()\n",
    "    Char = input(\"Enter a Character: \").lower()\n",
    "    count = Ocuurences(str, Char)\n",
    "    print(f\"The number of occurences of this {Char} is: {count}\")\n",
    "main()"
   ]
  },
  {
   "cell_type": "markdown",
   "metadata": {},
   "source": [
    "Finally to show more options that you probabily will never use IRL: \n",
    "\n",
    "lets se how can we find hte len of a string using python `enumerate()` function that is typically used to loop over an iterable and keep track of both the index and the value of elements within that iterable."
   ]
  },
  {
   "cell_type": "code",
   "execution_count": 10,
   "metadata": {},
   "outputs": [
    {
     "name": "stdout",
     "output_type": "stream",
     "text": [
      "Length of the string is: 5\n"
     ]
    }
   ],
   "source": [
    "def str_len(s):\n",
    "    len = 0\n",
    "    for i, a in enumerate(s):\n",
    "        len+=1\n",
    "    return len\n",
    "\n",
    "\n",
    "def main():\n",
    "    s = input(\"Enter a string: \").lower()\n",
    "    length = str_len(s)\n",
    "    print(\"Length of the string is:\", length)\n",
    "main()"
   ]
  },
  {
   "cell_type": "code",
   "execution_count": null,
   "metadata": {},
   "outputs": [],
   "source": []
  },
  {
   "cell_type": "code",
   "execution_count": null,
   "metadata": {},
   "outputs": [],
   "source": []
  },
  {
   "cell_type": "markdown",
   "metadata": {},
   "source": [
    "# [Reverse Words in a Given String](https://www.geeksforgeeks.org/reverse-words-given-string-python/)"
   ]
  },
  {
   "cell_type": "markdown",
   "metadata": {},
   "source": [
    "Example:\n",
    "\n",
    "**Input** : str =\" geeks quiz practice code\"\n",
    "\n",
    "**Output** : str = code practice quiz geeks  \n",
    "\n",
    "**Input** : str = \"my name is laxmi\"\n",
    "\n",
    "**output** : str= laxmi is name my "
   ]
  },
  {
   "cell_type": "markdown",
   "metadata": {},
   "source": [
    "The best efficeient way to do this is to use python built in slicing functions:"
   ]
  },
  {
   "cell_type": "markdown",
   "metadata": {},
   "source": [
    "A Short Summary of how slicing functions work in python:\n",
    "\n",
    "Python string slicing is a powerful feature that allows us to extract substrings from strings. The syntax for string slicing is as follows:\n",
    "\n",
    "\n",
    "**General Syntax**: `[start:stop:step]`\n",
    "\n",
    "**start**: The index where the slice begins (inclusive).\n",
    "\n",
    "**stop**: The index where the slice ends (exclusive).\n",
    "\n",
    "**step**: The1 interval between elements to be included in the slice\n",
    "\n",
    "When both start and stop are omitted, it implies selecting the entire sequence.\n",
    "\n",
    "`-1` as step: A negative step value indicates that the sequence should be traversed in reverse order.\n"
   ]
  },
  {
   "cell_type": "code",
   "execution_count": 14,
   "metadata": {},
   "outputs": [
    {
     "name": "stdout",
     "output_type": "stream",
     "text": [
      "Reversed string is: demha\n"
     ]
    }
   ],
   "source": [
    "def reversed(s):\n",
    "    reversed_str = s[::-1]\n",
    "    return reversed_str\n",
    "    \n",
    "\n",
    "def main():\n",
    "    s = input(\"Enter a string: \").lower()\n",
    "    reversed_str = reversed(s)\n",
    "    print(\"Reversed string is:\", reversed_str)\n",
    "    \n",
    "main()"
   ]
  },
  {
   "cell_type": "markdown",
   "metadata": {},
   "source": [
    "But what about reason this function from first principles:"
   ]
  },
  {
   "cell_type": "markdown",
   "metadata": {},
   "source": [
    "1. Frist we have to input a string\n",
    "2. Then we convert the string to individual characters\n",
    "3. Then we reverse those characters\n",
    "4. Finally we convert  those characters back to string and print the result."
   ]
  },
  {
   "cell_type": "markdown",
   "metadata": {},
   "source": [
    "1. Taking a string from the user is been taken care of by the input function\n",
    "2. Converting string to individual characters is done by looping over each character in the string and appending it to a list\n",
    "4. Reversing the list is done by slicing the list in reverse order:\n",
    "    1. We can reverse the list by iterating over each character in the list (From the End back to beginning) and then appending each character individually to a new list of characters \n",
    "3. Converting list back to string is done by joining all the characters in the list with a space in between using the join function"
   ]
  },
  {
   "cell_type": "code",
   "execution_count": 19,
   "metadata": {},
   "outputs": [
    {
     "name": "stdout",
     "output_type": "stream",
     "text": [
      "['a', 'b', 'd', 'a', 'l', 'l', 'a', 'h', ' ', 'i', 's', ' ', 's', 'o', 'l', 'v', 'i', 'n', 'g', ' ', 'p', 'r', 'o', 'b', 'e', 'l', 'm']\n",
      "['m', 'l', 'e', 'b', 'o', 'r', 'p', ' ', 'g', 'n', 'i', 'v', 'l', 'o', 's', ' ', 's', 'i', ' ', 'h', 'a', 'l', 'l', 'a', 'd', 'b', 'a']\n",
      "Reversed string is: mleborp gnivlos si halladba\n"
     ]
    }
   ],
   "source": [
    "# def to_list(s):\n",
    "#     return list(s)\n",
    "# Of course We would not go with the intutive option, we would go with the more complex one\n",
    "\n",
    "\n",
    "# def to_list(s):\n",
    "#     str_list = [char for char in s]\n",
    "#     return str_list\n",
    "# This also feel kind of straigt forward, we would go with the more complex one\n",
    "\n",
    "def to_list(s):\n",
    "    str_list = []\n",
    "    for char in s:\n",
    "        str_list.append(char)    \n",
    "    return str_list\n",
    "# This feels complicated enough for now\n",
    "\n",
    "\n",
    "\n",
    "# def reversed(str_list):\n",
    "#     reversed_str = \"\".join(str_list.pop() for i in range(len(str_list)))\n",
    "#     return reversed_str\n",
    "# This also feel kind of straigt forward, we would go with the more complex one\n",
    "\n",
    "def reversed(str_list):\n",
    "    reverse_list_str = []\n",
    "    for i in range(len(str_list)):\n",
    "        reverse_list_str.append(str_list.pop())\n",
    "    return reverse_list_str\n",
    "\n",
    "\n",
    "def to_string(reverse_list_str):\n",
    "    return \"\".join(reverse_list_str)\n",
    "# This feels complicated enough for now\n",
    "\n",
    "\n",
    "def main():\n",
    "    s = input(\"Enter a string: \").lower()\n",
    "    str_list = to_list(s)\n",
    "    print(str_list)\n",
    "    reverse_list_str = reversed(str_list)\n",
    "    print(reverse_list_str)\n",
    "    reversed_str = to_string(reverse_list_str)\n",
    "    print(\"Reversed string is:\", reversed_str)\n",
    "    \n",
    "main()"
   ]
  },
  {
   "cell_type": "markdown",
   "metadata": {},
   "source": [
    "What about doing the same thing but for a whole scentence:"
   ]
  },
  {
   "cell_type": "code",
   "execution_count": 4,
   "metadata": {},
   "outputs": [
    {
     "name": "stdout",
     "output_type": "stream",
     "text": [
      "['ahmed', 'walked', 'the', 'walk']\n",
      "['walk', 'the', 'walked', 'ahmed']\n",
      "Reversed string is: walk the walked ahmed\n"
     ]
    }
   ],
   "source": [
    "\n",
    "# def split(s):\n",
    "#     return s.split()  \n",
    "# Of course We would not go with the intutive option, we would go with the more complex one\n",
    "\n",
    "\n",
    "def split(s):\n",
    "    words = []\n",
    "    word = []\n",
    "    for i in s:\n",
    "        if i == \" \":\n",
    "            words.append(\"\".join(word))\n",
    "            word = []\n",
    "        else:\n",
    "            word.append(i)\n",
    "    if word:  \n",
    "        words.append(\"\".join(word)) \n",
    "    return words\n",
    "\n",
    "\n",
    "def reversed(str_list):\n",
    "    reverse_list_str = []\n",
    "    for i in range(len(str_list)):\n",
    "        reverse_list_str.append(str_list.pop())\n",
    "    return reverse_list_str\n",
    "\n",
    "\n",
    "def to_string(reverse_list_str):\n",
    "    return \" \".join(reverse_list_str)\n",
    "# This feels complicated enough for now\n",
    "\n",
    "\n",
    "def main():\n",
    "    s = input(\"Enter a string: \").lower()\n",
    "    str_list = split(s)\n",
    "    print(str_list)\n",
    "    reverse_list_str = reversed(str_list)\n",
    "    print(reverse_list_str)\n",
    "    reversed_str = to_string(reverse_list_str)\n",
    "    print(\"Reversed string is:\", reversed_str)\n",
    "    \n",
    "main()"
   ]
  },
  {
   "cell_type": "markdown",
   "metadata": {},
   "source": [
    "# Next Problem"
   ]
  },
  {
   "cell_type": "markdown",
   "metadata": {},
   "source": []
  }
 ],
 "metadata": {
  "kernelspec": {
   "display_name": "base",
   "language": "python",
   "name": "python3"
  },
  "language_info": {
   "codemirror_mode": {
    "name": "ipython",
    "version": 3
   },
   "file_extension": ".py",
   "mimetype": "text/x-python",
   "name": "python",
   "nbconvert_exporter": "python",
   "pygments_lexer": "ipython3",
   "version": "3.11.7"
  }
 },
 "nbformat": 4,
 "nbformat_minor": 2
}
