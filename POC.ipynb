{
 "cells": [
  {
   "cell_type": "markdown",
   "metadata": {},
   "source": [
    "# Basic String Programs"
   ]
  },
  {
   "cell_type": "markdown",
   "metadata": {},
   "source": [
    "## [Python program to check whether the string is Symmetrical or Palindrome](https://www.geeksforgeeks.org/python-program-to-check-whether-the-string-is-symmetrical-or-palindrome/?ref=leftbar-rightbar)"
   ]
  },
  {
   "cell_type": "markdown",
   "metadata": {},
   "source": [
    "Given a string. the task is to check if the string is symmetrical and\n",
    "palindrome or not. A string is said to be symmetrical if both the halves of the string are the same and a string is said to be a palindrome string if one half of the string is the reverse of the other half or if a string appears the same when read forward or backward.\n",
    "\n",
    "\n",
    "---\n",
    "Example\n",
    "\n",
    "Input: khokho\n",
    "\n",
    "Output:\n",
    "\n",
    "The entered string is symmetrical\n",
    "\n",
    "The entered string is not palindrome\n",
    "\n",
    "Input:amaama\n",
    "\n",
    "Output:\n",
    "\n",
    "The entered string is symmetrical\n",
    "\n",
    "The entered string is palindrome"
   ]
  },
  {
   "cell_type": "markdown",
   "metadata": {},
   "source": [
    "Approach:\n",
    "\n",
    "1. Convert the given string into lowercase.\n",
    "2. Check if the given string is symmetrical or not.\n",
    "3. Check if the given string is a palindrome or not.\n",
    "4. Print the output."
   ]
  },
  {
   "cell_type": "code",
   "execution_count": 2,
   "metadata": {},
   "outputs": [],
   "source": [
    "def split_string(string):\n",
    "    length = len(string)\n",
    "    if length % 2 == 0:\n",
    "        return string[:length // 2], string[length // 2:]\n",
    "    else:\n",
    "        return string[:length // 2], string[length // 2 + 1:]\n",
    "\n",
    "def check_symmetry(s):\n",
    "    part_1, part_2 = split_string(s)\n",
    "    return part_1 == part_2\n",
    "\n",
    "def check_palindrome(s):\n",
    "    return s == s[::-1]"
   ]
  },
  {
   "cell_type": "code",
   "execution_count": 3,
   "metadata": {},
   "outputs": [
    {
     "name": "stdout",
     "output_type": "stream",
     "text": [
      "The entered string is symmetrical\n",
      "The entered string is not palindrome\n"
     ]
    }
   ],
   "source": [
    "def main():\n",
    "    s = input(\"Enter a string: \").lower()\n",
    "    if check_symmetry(s):\n",
    "        print(\"The entered string is symmetrical\")\n",
    "    else:\n",
    "        print(\"The entered string is not symmetrical\")\n",
    "    \n",
    "    if check_palindrome(s):\n",
    "        print(\"The entered string is palindrome\")\n",
    "    else:\n",
    "        print(\"The entered string is not palindrome\")\n",
    "\n",
    "main()"
   ]
  },
  {
   "cell_type": "markdown",
   "metadata": {},
   "source": [
    "## Next Problem:"
   ]
  }
 ],
 "metadata": {
  "kernelspec": {
   "display_name": "base",
   "language": "python",
   "name": "python3"
  },
  "language_info": {
   "codemirror_mode": {
    "name": "ipython",
    "version": 3
   },
   "file_extension": ".py",
   "mimetype": "text/x-python",
   "name": "python",
   "nbconvert_exporter": "python",
   "pygments_lexer": "ipython3",
   "version": "3.11.7"
  }
 },
 "nbformat": 4,
 "nbformat_minor": 2
}
